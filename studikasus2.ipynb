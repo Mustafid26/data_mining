{
 "cells": [
  {
   "cell_type": "code",
   "execution_count": 508,
   "metadata": {},
   "outputs": [],
   "source": [
    "import pandas as pd\n",
    "import numpy as np\n",
    "from sklearn.preprocessing import LabelEncoder"
   ]
  },
  {
   "cell_type": "code",
   "execution_count": 509,
   "metadata": {},
   "outputs": [],
   "source": [
    "# Load the dataset\n",
    "file_path = 'dataKasus.xlsx' \n",
    "df = pd.read_excel(file_path, sheet_name='2022')"
   ]
  },
  {
   "cell_type": "code",
   "execution_count": 510,
   "metadata": {},
   "outputs": [
    {
     "name": "stdout",
     "output_type": "stream",
     "text": [
      "<class 'pandas.core.frame.DataFrame'>\n",
      "RangeIndex: 561 entries, 0 to 560\n",
      "Data columns (total 13 columns):\n",
      " #   Column                            Non-Null Count  Dtype \n",
      "---  ------                            --------------  ----- \n",
      " 0   NO                                561 non-null    int64 \n",
      " 1   NAMA                              561 non-null    object\n",
      " 2   USIA                              558 non-null    object\n",
      " 3   PARITAS                           561 non-null    int64 \n",
      " 4   JARAK KELAHIRAN                   554 non-null    object\n",
      " 5   RIW HIPERTENSI                    561 non-null    object\n",
      " 6   RIW PE                            561 non-null    object\n",
      " 7   OBESITAS                          561 non-null    object\n",
      " 8   RIW DM                            561 non-null    object\n",
      " 9   RIW HIPERTENSI/PE DALAM KELUARGA  561 non-null    object\n",
      " 10  SOSEK RENDAH                      561 non-null    object\n",
      " 11  PE/Non PE                         561 non-null    object\n",
      " 12  Unnamed: 12                       11 non-null     object\n",
      "dtypes: int64(2), object(11)\n",
      "memory usage: 57.1+ KB\n"
     ]
    }
   ],
   "source": [
    "df_info = df.info()\n",
    "df_info"
   ]
  },
  {
   "cell_type": "code",
   "execution_count": 511,
   "metadata": {},
   "outputs": [],
   "source": [
    "df2 = df.drop(columns=['Unnamed: 12'])"
   ]
  },
  {
   "cell_type": "code",
   "execution_count": 512,
   "metadata": {},
   "outputs": [],
   "source": [
    "def counts(nama_kolom):\n",
    "    return df2[nama_kolom].value_counts()"
   ]
  },
  {
   "cell_type": "code",
   "execution_count": 513,
   "metadata": {},
   "outputs": [
    {
     "name": "stdout",
     "output_type": "stream",
     "text": [
      "USIA\n",
      "28 TH     28\n",
      "25 TH     24\n",
      "31 TH     23\n",
      "29 TH     22\n",
      "24 TH     21\n",
      "          ..\n",
      "30 th      1\n",
      "16         1\n",
      "39 TH      1\n",
      "13 TH      1\n",
      "14 TH      1\n",
      "Name: count, Length: 72, dtype: int64\n"
     ]
    }
   ],
   "source": [
    "print(counts('USIA'))"
   ]
  },
  {
   "cell_type": "code",
   "execution_count": 514,
   "metadata": {},
   "outputs": [
    {
     "name": "stdout",
     "output_type": "stream",
     "text": [
      "USIA\n",
      "26.090909    550\n",
      "26.000000      4\n",
      "29.000000      2\n",
      "16.000000      1\n",
      "28.000000      1\n",
      "23.000000      1\n",
      "37.000000      1\n",
      "21.000000      1\n",
      "Name: count, dtype: int64\n"
     ]
    }
   ],
   "source": [
    "df2['USIA'] = df2['USIA'].replace({'TH': '', 'th': ''}, regex=True) \n",
    "df2['USIA'] = pd.to_numeric(df['USIA'], errors='coerce') \n",
    "mean_age = df2['USIA'].mean()\n",
    "df2['USIA'] = df2['USIA'].fillna(mean_age)\n",
    "print(counts('USIA'))"
   ]
  },
  {
   "cell_type": "code",
   "execution_count": 515,
   "metadata": {},
   "outputs": [
    {
     "name": "stdout",
     "output_type": "stream",
     "text": [
      "RIW HIPERTENSI\n",
      "Tidak    508\n",
      "Ya        53\n",
      "Name: count, dtype: int64\n"
     ]
    }
   ],
   "source": [
    "print(counts('RIW HIPERTENSI'))"
   ]
  },
  {
   "cell_type": "code",
   "execution_count": 516,
   "metadata": {},
   "outputs": [],
   "source": [
    "df2['RIW HIPERTENSI'] = df2['RIW HIPERTENSI'].map({'Tidak': 0, 'Ya': 1})"
   ]
  },
  {
   "cell_type": "code",
   "execution_count": 517,
   "metadata": {},
   "outputs": [
    {
     "name": "stdout",
     "output_type": "stream",
     "text": [
      "RIW HIPERTENSI\n",
      "0    508\n",
      "1     53\n",
      "Name: count, dtype: int64\n"
     ]
    }
   ],
   "source": [
    "print(counts('RIW HIPERTENSI'))"
   ]
  },
  {
   "cell_type": "code",
   "execution_count": 518,
   "metadata": {},
   "outputs": [
    {
     "name": "stdout",
     "output_type": "stream",
     "text": [
      "RIW PE\n",
      "Tidak                     526\n",
      "PEB                        19\n",
      "PE                          6\n",
      "HELLP SYNDROM               2\n",
      "Impending PE                2\n",
      "Impending Eklamsia          1\n",
      "Kejang Konvulsi             1\n",
      "impending eklamsia          1\n",
      "PE, HELLP Syndrome          1\n",
      "PEB impending eklampsi      1\n",
      "Impending Ekalmsia          1\n",
      "Name: count, dtype: int64\n"
     ]
    }
   ],
   "source": [
    "print(counts('RIW PE'))"
   ]
  },
  {
   "cell_type": "code",
   "execution_count": 519,
   "metadata": {},
   "outputs": [],
   "source": [
    "df2['RIW PE'] = df2['RIW PE'].apply(lambda x: 'Ya' if x != 'Tidak' else 'Tidak')"
   ]
  },
  {
   "cell_type": "code",
   "execution_count": 520,
   "metadata": {},
   "outputs": [
    {
     "name": "stdout",
     "output_type": "stream",
     "text": [
      "RIW PE\n",
      "Tidak    526\n",
      "Ya        35\n",
      "Name: count, dtype: int64\n"
     ]
    }
   ],
   "source": [
    "print(counts('RIW PE'))"
   ]
  },
  {
   "cell_type": "code",
   "execution_count": 521,
   "metadata": {},
   "outputs": [],
   "source": [
    "df2['RIW PE'] = df2['RIW PE'].map({'Tidak': 0, 'Ya': 1})"
   ]
  },
  {
   "cell_type": "code",
   "execution_count": 522,
   "metadata": {},
   "outputs": [
    {
     "name": "stdout",
     "output_type": "stream",
     "text": [
      "<class 'pandas.core.frame.DataFrame'>\n",
      "RangeIndex: 561 entries, 0 to 560\n",
      "Data columns (total 12 columns):\n",
      " #   Column                            Non-Null Count  Dtype  \n",
      "---  ------                            --------------  -----  \n",
      " 0   NO                                561 non-null    int64  \n",
      " 1   NAMA                              561 non-null    object \n",
      " 2   USIA                              561 non-null    float64\n",
      " 3   PARITAS                           561 non-null    int64  \n",
      " 4   JARAK KELAHIRAN                   554 non-null    object \n",
      " 5   RIW HIPERTENSI                    561 non-null    int64  \n",
      " 6   RIW PE                            561 non-null    int64  \n",
      " 7   OBESITAS                          561 non-null    object \n",
      " 8   RIW DM                            561 non-null    object \n",
      " 9   RIW HIPERTENSI/PE DALAM KELUARGA  561 non-null    object \n",
      " 10  SOSEK RENDAH                      561 non-null    object \n",
      " 11  PE/Non PE                         561 non-null    object \n",
      "dtypes: float64(1), int64(4), object(7)\n",
      "memory usage: 52.7+ KB\n"
     ]
    }
   ],
   "source": [
    "df2.info()"
   ]
  },
  {
   "cell_type": "code",
   "execution_count": 523,
   "metadata": {},
   "outputs": [
    {
     "name": "stdout",
     "output_type": "stream",
     "text": [
      "RIW DM\n",
      "Tidak    556\n",
      "Ya         5\n",
      "Name: count, dtype: int64\n"
     ]
    }
   ],
   "source": [
    "print(counts('RIW DM'))"
   ]
  },
  {
   "cell_type": "code",
   "execution_count": 524,
   "metadata": {},
   "outputs": [],
   "source": [
    "df2['RIW DM'] = df2['RIW DM'].map({'Tidak': 0, 'Ya': 1})"
   ]
  },
  {
   "cell_type": "code",
   "execution_count": 525,
   "metadata": {},
   "outputs": [
    {
     "name": "stdout",
     "output_type": "stream",
     "text": [
      "RIW DM\n",
      "0    556\n",
      "1      5\n",
      "Name: count, dtype: int64\n"
     ]
    }
   ],
   "source": [
    "print(counts('RIW DM'))"
   ]
  },
  {
   "cell_type": "code",
   "execution_count": 526,
   "metadata": {},
   "outputs": [
    {
     "name": "stdout",
     "output_type": "stream",
     "text": [
      "SOSEK RENDAH\n",
      ">UMR    557\n",
      "<UMR      4\n",
      "Name: count, dtype: int64\n"
     ]
    }
   ],
   "source": [
    "print(counts('SOSEK RENDAH'))"
   ]
  },
  {
   "cell_type": "code",
   "execution_count": 527,
   "metadata": {},
   "outputs": [],
   "source": [
    "df2['SOSEK RENDAH'] = df2['SOSEK RENDAH'].map({'>UMR': 0, '<UMR': 1})"
   ]
  },
  {
   "cell_type": "code",
   "execution_count": 528,
   "metadata": {},
   "outputs": [
    {
     "name": "stdout",
     "output_type": "stream",
     "text": [
      "SOSEK RENDAH\n",
      "0    557\n",
      "1      4\n",
      "Name: count, dtype: int64\n"
     ]
    }
   ],
   "source": [
    "print(counts('SOSEK RENDAH'))"
   ]
  },
  {
   "cell_type": "code",
   "execution_count": 529,
   "metadata": {},
   "outputs": [
    {
     "name": "stdout",
     "output_type": "stream",
     "text": [
      "<class 'pandas.core.frame.DataFrame'>\n",
      "RangeIndex: 561 entries, 0 to 560\n",
      "Data columns (total 12 columns):\n",
      " #   Column                            Non-Null Count  Dtype  \n",
      "---  ------                            --------------  -----  \n",
      " 0   NO                                561 non-null    int64  \n",
      " 1   NAMA                              561 non-null    object \n",
      " 2   USIA                              561 non-null    float64\n",
      " 3   PARITAS                           561 non-null    int64  \n",
      " 4   JARAK KELAHIRAN                   554 non-null    object \n",
      " 5   RIW HIPERTENSI                    561 non-null    int64  \n",
      " 6   RIW PE                            561 non-null    int64  \n",
      " 7   OBESITAS                          561 non-null    object \n",
      " 8   RIW DM                            561 non-null    int64  \n",
      " 9   RIW HIPERTENSI/PE DALAM KELUARGA  561 non-null    object \n",
      " 10  SOSEK RENDAH                      561 non-null    int64  \n",
      " 11  PE/Non PE                         561 non-null    object \n",
      "dtypes: float64(1), int64(6), object(5)\n",
      "memory usage: 52.7+ KB\n"
     ]
    }
   ],
   "source": [
    "df2.info()"
   ]
  },
  {
   "cell_type": "code",
   "execution_count": 530,
   "metadata": {},
   "outputs": [
    {
     "name": "stdout",
     "output_type": "stream",
     "text": [
      "JARAK KELAHIRAN\n",
      "anak pertama    260\n",
      "> 2 tahun       211\n",
      "< 2 tahun        81\n",
      "> 2 tahun         2\n",
      "Name: count, dtype: int64\n"
     ]
    }
   ],
   "source": [
    "print(counts('JARAK KELAHIRAN'))"
   ]
  },
  {
   "cell_type": "code",
   "execution_count": 531,
   "metadata": {},
   "outputs": [],
   "source": [
    "df2['JARAK KELAHIRAN'] = df2['JARAK KELAHIRAN'].str.replace('> 2 tahun ','> 2 tahun')"
   ]
  },
  {
   "cell_type": "code",
   "execution_count": 532,
   "metadata": {},
   "outputs": [
    {
     "name": "stdout",
     "output_type": "stream",
     "text": [
      "JARAK KELAHIRAN\n",
      "anak pertama    260\n",
      "> 2 tahun       213\n",
      "< 2 tahun        81\n",
      "Name: count, dtype: int64\n"
     ]
    }
   ],
   "source": [
    "print(counts('JARAK KELAHIRAN'))"
   ]
  },
  {
   "cell_type": "code",
   "execution_count": 533,
   "metadata": {},
   "outputs": [],
   "source": [
    "label_encoder = LabelEncoder()\n",
    "df2['JARAK KELAHIRAN'] = label_encoder.fit_transform(df2['JARAK KELAHIRAN'])"
   ]
  },
  {
   "cell_type": "code",
   "execution_count": 534,
   "metadata": {},
   "outputs": [
    {
     "name": "stdout",
     "output_type": "stream",
     "text": [
      "JARAK KELAHIRAN\n",
      "2    260\n",
      "1    213\n",
      "0     81\n",
      "3      7\n",
      "Name: count, dtype: int64\n"
     ]
    }
   ],
   "source": [
    "print(counts('JARAK KELAHIRAN'))"
   ]
  },
  {
   "cell_type": "code",
   "execution_count": 535,
   "metadata": {},
   "outputs": [
    {
     "name": "stdout",
     "output_type": "stream",
     "text": [
      "<class 'pandas.core.frame.DataFrame'>\n",
      "RangeIndex: 561 entries, 0 to 560\n",
      "Data columns (total 12 columns):\n",
      " #   Column                            Non-Null Count  Dtype  \n",
      "---  ------                            --------------  -----  \n",
      " 0   NO                                561 non-null    int64  \n",
      " 1   NAMA                              561 non-null    object \n",
      " 2   USIA                              561 non-null    float64\n",
      " 3   PARITAS                           561 non-null    int64  \n",
      " 4   JARAK KELAHIRAN                   561 non-null    int32  \n",
      " 5   RIW HIPERTENSI                    561 non-null    int64  \n",
      " 6   RIW PE                            561 non-null    int64  \n",
      " 7   OBESITAS                          561 non-null    object \n",
      " 8   RIW DM                            561 non-null    int64  \n",
      " 9   RIW HIPERTENSI/PE DALAM KELUARGA  561 non-null    object \n",
      " 10  SOSEK RENDAH                      561 non-null    int64  \n",
      " 11  PE/Non PE                         561 non-null    object \n",
      "dtypes: float64(1), int32(1), int64(6), object(4)\n",
      "memory usage: 50.5+ KB\n"
     ]
    }
   ],
   "source": [
    "df2.info()"
   ]
  },
  {
   "cell_type": "code",
   "execution_count": 536,
   "metadata": {},
   "outputs": [],
   "source": [
    "df2['OBESITAS'] = df2['OBESITAS'].map({'Tidak': 0, 'Ya': 1})"
   ]
  },
  {
   "cell_type": "code",
   "execution_count": 537,
   "metadata": {},
   "outputs": [
    {
     "data": {
      "text/plain": [
       "OBESITAS\n",
       "0    556\n",
       "1      5\n",
       "Name: count, dtype: int64"
      ]
     },
     "execution_count": 537,
     "metadata": {},
     "output_type": "execute_result"
    }
   ],
   "source": [
    "counts('OBESITAS')"
   ]
  },
  {
   "cell_type": "code",
   "execution_count": 538,
   "metadata": {},
   "outputs": [],
   "source": [
    "df2['RIW HIPERTENSI/PE DALAM KELUARGA'] = df2['RIW HIPERTENSI/PE DALAM KELUARGA'].map({'Tidak' : 0, 'Ada': 1})"
   ]
  },
  {
   "cell_type": "code",
   "execution_count": 539,
   "metadata": {},
   "outputs": [
    {
     "data": {
      "text/plain": [
       "RIW HIPERTENSI/PE DALAM KELUARGA\n",
       "0    550\n",
       "1     11\n",
       "Name: count, dtype: int64"
      ]
     },
     "execution_count": 539,
     "metadata": {},
     "output_type": "execute_result"
    }
   ],
   "source": [
    "counts('RIW HIPERTENSI/PE DALAM KELUARGA')"
   ]
  },
  {
   "cell_type": "code",
   "execution_count": 540,
   "metadata": {},
   "outputs": [
    {
     "name": "stdout",
     "output_type": "stream",
     "text": [
      "<class 'pandas.core.frame.DataFrame'>\n",
      "RangeIndex: 561 entries, 0 to 560\n",
      "Data columns (total 12 columns):\n",
      " #   Column                            Non-Null Count  Dtype  \n",
      "---  ------                            --------------  -----  \n",
      " 0   NO                                561 non-null    int64  \n",
      " 1   NAMA                              561 non-null    object \n",
      " 2   USIA                              561 non-null    float64\n",
      " 3   PARITAS                           561 non-null    int64  \n",
      " 4   JARAK KELAHIRAN                   561 non-null    int32  \n",
      " 5   RIW HIPERTENSI                    561 non-null    int64  \n",
      " 6   RIW PE                            561 non-null    int64  \n",
      " 7   OBESITAS                          561 non-null    int64  \n",
      " 8   RIW DM                            561 non-null    int64  \n",
      " 9   RIW HIPERTENSI/PE DALAM KELUARGA  561 non-null    int64  \n",
      " 10  SOSEK RENDAH                      561 non-null    int64  \n",
      " 11  PE/Non PE                         561 non-null    object \n",
      "dtypes: float64(1), int32(1), int64(8), object(2)\n",
      "memory usage: 50.5+ KB\n"
     ]
    }
   ],
   "source": [
    "df2.info()"
   ]
  },
  {
   "cell_type": "code",
   "execution_count": 541,
   "metadata": {},
   "outputs": [
    {
     "data": {
      "text/plain": [
       "PE/Non PE\n",
       "Non PE                    520\n",
       "PEB                        20\n",
       "PE                         17\n",
       "Eklamsia                    1\n",
       "PE gemelli                  1\n",
       "PEB impending eklampsi      1\n",
       "PE                          1\n",
       "Name: count, dtype: int64"
      ]
     },
     "execution_count": 541,
     "metadata": {},
     "output_type": "execute_result"
    }
   ],
   "source": [
    "counts('PE/Non PE')"
   ]
  },
  {
   "cell_type": "code",
   "execution_count": 542,
   "metadata": {},
   "outputs": [],
   "source": [
    "df2['PE/Non PE'] = df2['PE/Non PE'].apply(lambda x: 'PE' if x != 'Non PE' else 'Non PE')"
   ]
  },
  {
   "cell_type": "code",
   "execution_count": 543,
   "metadata": {},
   "outputs": [
    {
     "data": {
      "text/plain": [
       "PE/Non PE\n",
       "Non PE    520\n",
       "PE         41\n",
       "Name: count, dtype: int64"
      ]
     },
     "execution_count": 543,
     "metadata": {},
     "output_type": "execute_result"
    }
   ],
   "source": [
    "counts('PE/Non PE')"
   ]
  },
  {
   "cell_type": "code",
   "execution_count": 544,
   "metadata": {},
   "outputs": [],
   "source": [
    "df2['PE/Non PE'] = df2['PE/Non PE'].map({'PE': 1, 'Non PE': 0})"
   ]
  },
  {
   "cell_type": "code",
   "execution_count": 545,
   "metadata": {},
   "outputs": [
    {
     "data": {
      "text/plain": [
       "PE/Non PE\n",
       "0    520\n",
       "1     41\n",
       "Name: count, dtype: int64"
      ]
     },
     "execution_count": 545,
     "metadata": {},
     "output_type": "execute_result"
    }
   ],
   "source": [
    "counts('PE/Non PE')"
   ]
  },
  {
   "cell_type": "code",
   "execution_count": 546,
   "metadata": {},
   "outputs": [
    {
     "name": "stdout",
     "output_type": "stream",
     "text": [
      "<class 'pandas.core.frame.DataFrame'>\n",
      "RangeIndex: 561 entries, 0 to 560\n",
      "Data columns (total 12 columns):\n",
      " #   Column                            Non-Null Count  Dtype  \n",
      "---  ------                            --------------  -----  \n",
      " 0   NO                                561 non-null    int64  \n",
      " 1   NAMA                              561 non-null    object \n",
      " 2   USIA                              561 non-null    float64\n",
      " 3   PARITAS                           561 non-null    int64  \n",
      " 4   JARAK KELAHIRAN                   561 non-null    int32  \n",
      " 5   RIW HIPERTENSI                    561 non-null    int64  \n",
      " 6   RIW PE                            561 non-null    int64  \n",
      " 7   OBESITAS                          561 non-null    int64  \n",
      " 8   RIW DM                            561 non-null    int64  \n",
      " 9   RIW HIPERTENSI/PE DALAM KELUARGA  561 non-null    int64  \n",
      " 10  SOSEK RENDAH                      561 non-null    int64  \n",
      " 11  PE/Non PE                         561 non-null    int64  \n",
      "dtypes: float64(1), int32(1), int64(9), object(1)\n",
      "memory usage: 50.5+ KB\n"
     ]
    }
   ],
   "source": [
    "df2.info()"
   ]
  },
  {
   "cell_type": "code",
   "execution_count": 547,
   "metadata": {},
   "outputs": [],
   "source": [
    "df2 = df2.drop(columns=['NAMA'])"
   ]
  },
  {
   "cell_type": "code",
   "execution_count": 548,
   "metadata": {},
   "outputs": [
    {
     "name": "stdout",
     "output_type": "stream",
     "text": [
      "<class 'pandas.core.frame.DataFrame'>\n",
      "RangeIndex: 561 entries, 0 to 560\n",
      "Data columns (total 11 columns):\n",
      " #   Column                            Non-Null Count  Dtype  \n",
      "---  ------                            --------------  -----  \n",
      " 0   NO                                561 non-null    int64  \n",
      " 1   USIA                              561 non-null    float64\n",
      " 2   PARITAS                           561 non-null    int64  \n",
      " 3   JARAK KELAHIRAN                   561 non-null    int32  \n",
      " 4   RIW HIPERTENSI                    561 non-null    int64  \n",
      " 5   RIW PE                            561 non-null    int64  \n",
      " 6   OBESITAS                          561 non-null    int64  \n",
      " 7   RIW DM                            561 non-null    int64  \n",
      " 8   RIW HIPERTENSI/PE DALAM KELUARGA  561 non-null    int64  \n",
      " 9   SOSEK RENDAH                      561 non-null    int64  \n",
      " 10  PE/Non PE                         561 non-null    int64  \n",
      "dtypes: float64(1), int32(1), int64(9)\n",
      "memory usage: 46.1 KB\n"
     ]
    }
   ],
   "source": [
    "df2.info()"
   ]
  },
  {
   "cell_type": "code",
   "execution_count": 551,
   "metadata": {},
   "outputs": [],
   "source": [
    "df2.to_excel('dataset_baru.xlsx')"
   ]
  },
  {
   "cell_type": "code",
   "execution_count": null,
   "metadata": {},
   "outputs": [],
   "source": []
  }
 ],
 "metadata": {
  "kernelspec": {
   "display_name": "Python 3",
   "language": "python",
   "name": "python3"
  },
  "language_info": {
   "codemirror_mode": {
    "name": "ipython",
    "version": 3
   },
   "file_extension": ".py",
   "mimetype": "text/x-python",
   "name": "python",
   "nbconvert_exporter": "python",
   "pygments_lexer": "ipython3",
   "version": "3.12.2"
  }
 },
 "nbformat": 4,
 "nbformat_minor": 2
}
